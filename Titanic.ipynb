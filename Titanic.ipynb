{
 "cells": [
  {
   "cell_type": "code",
   "execution_count": 44,
   "metadata": {},
   "outputs": [],
   "source": [
    "import pandas as pd\n",
    "import matplotlib.pyplot as plt"
   ]
  },
  {
   "cell_type": "code",
   "metadata": {
    "jupyter": {
     "is_executing": true
    }
   },
   "source": [
    "train_DataFrame = pd.read_csv(filepath_or_buffer=\"Data/Titanic/train.csv\", \n",
    "                    names=[\"PassengerId\", \"Survived\", \"Pclass\", \"Name\", \"Sex\", \"Age\", \n",
    "                    \"SibSp\", \"Parch\", \"Ticket\", \"Fare\", \"Cabin\", \"Embarked\"], skiprows=1)\n",
    "test_DataFrame = pd.read_csv(filepath_or_buffer=\"Data/Titanic/test.csv\", \n",
    "                    names=[\"PassengerId\", \"Pclass\", \"Name\", \"Sex\", \"Age\", \n",
    "                    \"SibSp\", \"Parch\", \"Ticket\", \"Fare\", \"Cabin\", \"Embarked\"], skiprows=1)\n",
    "test_AnswerDataFrame = pd.read_csv(filepath_or_buffer=\"Data/Titanic/gender_submission.csv\",\n",
    "                    names=[\"PassengerId\", \"Survived\"], skiprows=1)\n",
    "\n",
    "print(train_DataFrame)\n",
    "print(test_DataFrame)\n",
    "print(test_AnswerDataFrame)"
   ],
   "outputs": [],
   "execution_count": null
  },
  {
   "cell_type": "code",
   "metadata": {
    "jupyter": {
     "is_executing": true
    }
   },
   "source": [
    "def EncodeData(x: pd.DataFrame) -> list:\n",
    "    \"\"\"\n",
    "    对特征向量进行编码\n",
    "    将pandas的DataFrame结构转换为list\n",
    "    同时去除无关列\n",
    "    @x: pandas.DataFrame\n",
    "    @return: 特征向量\n",
    "    \"\"\"\n",
    "    input_data = [[x[\"Pclass\"][i], x[\"Sex\"][i], x[\"Age\"][i], x[\"SibSp\"][i], x[\"Parch\"][i], x[\"Fare\"][i], x[\"Embarked\"][i]] for i in range(len(x))]\n",
    "    '''\n",
    "    对字符串进行编码\n",
    "    Sex: female->0, male->1\n",
    "    Embarked: C->0, Q->1, S->2\n",
    "    '''\n",
    "    for i in range(len(input_data)):\n",
    "        if input_data[i][1] == 'male':\n",
    "            input_data[i][1] = 1\n",
    "        elif input_data[i][1] == 'female':\n",
    "            input_data[i][1] = 0\n",
    "        else:\n",
    "            print(f\"行号：{i}, 数据异常：{input_data[i][1]}\")\n",
    "            print(\"当前ID所有信息：\")\n",
    "            print(x.loc[i])\n",
    "            raise ValueError(\"Error: Sex data error\")\n",
    "\n",
    "        if input_data[i][6] == 'C':\n",
    "            input_data[i][6] = 0\n",
    "        elif input_data[i][6] == 'Q':\n",
    "            input_data[i][6] = 1\n",
    "        elif input_data[i][6] == 'S':\n",
    "            input_data[i][6] = 2\n",
    "        else:\n",
    "            print(f\"行号：{i}, 数据异常：{input_data[i][6]}\")\n",
    "            print(\"当前ID所有信息：\")\n",
    "            print(x.loc[i])\n",
    "            raise ValueError(\"Error: Embarked data error\")\n",
    "\n",
    "def EncodeTrainData(x: pd.DataFrame) -> tuple[list, list]:\n",
    "    \"\"\"\n",
    "    对测试集进行编码处理\n",
    "    将pandas的DataFrame结构转换为list\n",
    "    同时去除无关列\n",
    "    @x: pandas.DataFrame\n",
    "    @return: 特征向量，标签向量\n",
    "    \"\"\"\n",
    "    input_data = EncodeData(x)\n",
    "    label = [x[\"Survived\"][i] for i in range(len(x))]\n",
    "\n",
    "    return input_data, label\n"
   ],
   "outputs": [],
   "execution_count": null
  },
  {
   "cell_type": "code",
   "execution_count": 47,
   "metadata": {},
   "outputs": [
    {
     "name": "stdout",
     "output_type": "stream",
     "text": [
      "行号：61, 数据异常：nan\n",
      "当前ID所有信息：\n",
      "PassengerId                     62\n",
      "Survived                         1\n",
      "Pclass                           1\n",
      "Name           Icard, Miss. Amelie\n",
      "Sex                         female\n",
      "Age                           38.0\n",
      "SibSp                            0\n",
      "Parch                            0\n",
      "Ticket                      113572\n",
      "Fare                          80.0\n",
      "Cabin                          B28\n",
      "Embarked                       NaN\n",
      "Name: 61, dtype: object\n"
     ]
    },
    {
     "ename": "ValueError",
     "evalue": "Error: Embarked data error",
     "output_type": "error",
     "traceback": [
      "\u001B[0;31m---------------------------------------------------------------------------\u001B[0m",
      "\u001B[0;31mValueError\u001B[0m                                Traceback (most recent call last)",
      "Cell \u001B[0;32mIn[47], line 1\u001B[0m\n\u001B[0;32m----> 1\u001B[0m train_x, train_y \u001B[38;5;241m=\u001B[39m \u001B[43mEncodeTrainData\u001B[49m\u001B[43m(\u001B[49m\u001B[43mtrain_DataFrame\u001B[49m\u001B[43m)\u001B[49m\n",
      "Cell \u001B[0;32mIn[46], line 46\u001B[0m, in \u001B[0;36mEncodeTrainData\u001B[0;34m(x)\u001B[0m\n\u001B[1;32m     38\u001B[0m \u001B[38;5;28;01mdef\u001B[39;00m \u001B[38;5;21mEncodeTrainData\u001B[39m(x: pd\u001B[38;5;241m.\u001B[39mDataFrame) \u001B[38;5;241m-\u001B[39m\u001B[38;5;241m>\u001B[39m \u001B[38;5;28mtuple\u001B[39m[\u001B[38;5;28mlist\u001B[39m, \u001B[38;5;28mlist\u001B[39m]:\n\u001B[1;32m     39\u001B[0m \u001B[38;5;250m    \u001B[39m\u001B[38;5;124;03m\"\"\"\u001B[39;00m\n\u001B[1;32m     40\u001B[0m \u001B[38;5;124;03m    对测试集进行编码处理\u001B[39;00m\n\u001B[1;32m     41\u001B[0m \u001B[38;5;124;03m    将pandas的DataFrame结构转换为list\u001B[39;00m\n\u001B[0;32m   (...)\u001B[0m\n\u001B[1;32m     44\u001B[0m \u001B[38;5;124;03m    @return: 特征向量，标签向量\u001B[39;00m\n\u001B[1;32m     45\u001B[0m \u001B[38;5;124;03m    \"\"\"\u001B[39;00m\n\u001B[0;32m---> 46\u001B[0m     input_data \u001B[38;5;241m=\u001B[39m \u001B[43mEncodeData\u001B[49m\u001B[43m(\u001B[49m\u001B[43mx\u001B[49m\u001B[43m)\u001B[49m\n\u001B[1;32m     47\u001B[0m     label \u001B[38;5;241m=\u001B[39m [x[\u001B[38;5;124m\"\u001B[39m\u001B[38;5;124mSurvived\u001B[39m\u001B[38;5;124m\"\u001B[39m][i] \u001B[38;5;28;01mfor\u001B[39;00m i \u001B[38;5;129;01min\u001B[39;00m \u001B[38;5;28mrange\u001B[39m(\u001B[38;5;28mlen\u001B[39m(x))]\n\u001B[1;32m     49\u001B[0m     \u001B[38;5;28;01mreturn\u001B[39;00m input_data, label\n",
      "Cell \u001B[0;32mIn[46], line 36\u001B[0m, in \u001B[0;36mEncodeData\u001B[0;34m(x)\u001B[0m\n\u001B[1;32m     34\u001B[0m \u001B[38;5;28mprint\u001B[39m(\u001B[38;5;124m\"\u001B[39m\u001B[38;5;124m当前ID所有信息：\u001B[39m\u001B[38;5;124m\"\u001B[39m)\n\u001B[1;32m     35\u001B[0m \u001B[38;5;28mprint\u001B[39m(x\u001B[38;5;241m.\u001B[39mloc[i])\n\u001B[0;32m---> 36\u001B[0m \u001B[38;5;28;01mraise\u001B[39;00m \u001B[38;5;167;01mValueError\u001B[39;00m(\u001B[38;5;124m\"\u001B[39m\u001B[38;5;124mError: Embarked data error\u001B[39m\u001B[38;5;124m\"\u001B[39m)\n",
      "\u001B[0;31mValueError\u001B[0m: Error: Embarked data error"
     ]
    }
   ],
   "source": [
    "train_x, train_y = EncodeTrainData(train_DataFrame)"
   ]
  }
 ],
 "metadata": {
  "kernelspec": {
   "display_name": "MachineLearning",
   "language": "python",
   "name": "python3"
  },
  "language_info": {
   "codemirror_mode": {
    "name": "ipython",
    "version": 3
   },
   "file_extension": ".py",
   "mimetype": "text/x-python",
   "name": "python",
   "nbconvert_exporter": "python",
   "pygments_lexer": "ipython3",
   "version": "3.10.16"
  }
 },
 "nbformat": 4,
 "nbformat_minor": 2
}
