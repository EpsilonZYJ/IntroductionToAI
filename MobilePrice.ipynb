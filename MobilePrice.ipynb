{
 "cells": [
  {
   "cell_type": "code",
   "id": "initial_id",
   "metadata": {
    "collapsed": true,
    "ExecuteTime": {
     "end_time": "2024-12-15T05:58:25.330051Z",
     "start_time": "2024-12-15T05:58:25.313051Z"
    }
   },
   "source": [
    "import pandas as pd\n",
    "import matplotlib.pyplot as plt"
   ],
   "outputs": [],
   "execution_count": 10
  },
  {
   "metadata": {
    "ExecuteTime": {
     "end_time": "2024-12-15T05:58:25.362051Z",
     "start_time": "2024-12-15T05:58:25.332051Z"
    }
   },
   "cell_type": "code",
   "source": [
    "train_DataFrame = pd.read_csv(filepath_or_buffer=\"Data/MobilePrice/train.csv\", \n",
    "                    names=[\"battery_power\", \"blue\", \"clock_speed\", \"dual_sim\", \"fc\", \"four_g\", \"int_memory\", \"m_dep\", \"mobile_wt\", \"n_cores\", \"pc\",\"px_height\",\"px_width\",\"ram\",\"sc_h\",\"sc_w\",\"talk_time\",\"three_g\",\"touch_screen\",\"wifi\",\"price_range\"], skiprows=1)\n",
    "test_DataFrame = pd.read_csv(filepath_or_buffer=\"Data/MobilePrice/test.csv\", \n",
    "                    names=[\"id\",\"battery_power\", \"blue\", \"clock_speed\", \"dual_sim\", \"fc\", \"four_g\", \"int_memory\", \"m_dep\", \"mobile_wt\", \"n_cores\", \"pc\",\"px_height\",\"px_width\",\"ram\",\"sc_h\",\"sc_w\",\"talk_time\",\"three_g\",\"touch_screen\",\"wifi\"], skiprows=1)\n",
    "test_AnswerDataFrame = pd.read_csv(filepath_or_buffer=\"Data/MobilePrice/gender_submission.csv\",\n",
    "                    names=[\"id\", \"price_range\"], skiprows=1)\n",
    "\n",
    "print(train_DataFrame)\n",
    "print(test_DataFrame)\n",
    "print(test_AnswerDataFrame)"
   ],
   "id": "7a1c0c8a7755dee",
   "outputs": [
    {
     "name": "stdout",
     "output_type": "stream",
     "text": [
      "      battery_power  blue  clock_speed  dual_sim  fc  four_g  int_memory  \\\n",
      "0               842     0          2.2         0   1       0           7   \n",
      "1              1021     1          0.5         1   0       1          53   \n",
      "2               563     1          0.5         1   2       1          41   \n",
      "3               615     1          2.5         0   0       0          10   \n",
      "4              1821     1          1.2         0  13       1          44   \n",
      "...             ...   ...          ...       ...  ..     ...         ...   \n",
      "1595           1206     0          3.0         1  10       1          30   \n",
      "1596            832     1          0.5         1   1       1           5   \n",
      "1597            848     1          2.8         0   1       0           8   \n",
      "1598           1851     0          2.9         0   0       0          53   \n",
      "1599           1166     1          0.5         0   7       0          59   \n",
      "\n",
      "      m_dep  mobile_wt  n_cores  ...  px_height  px_width   ram  sc_h  sc_w  \\\n",
      "0       0.6        188        2  ...         20       756  2549     9     7   \n",
      "1       0.7        136        3  ...        905      1988  2631    17     3   \n",
      "2       0.9        145        5  ...       1263      1716  2603    11     2   \n",
      "3       0.8        131        6  ...       1216      1786  2769    16     8   \n",
      "4       0.6        141        2  ...       1208      1212  1411     8     2   \n",
      "...     ...        ...      ...  ...        ...       ...   ...   ...   ...   \n",
      "1595    0.6        127        3  ...       1581      1713  1825     7     1   \n",
      "1596    0.1        165        5  ...          9      1944  3946    12     5   \n",
      "1597    0.1        103        7  ...          7      1294   436    10     6   \n",
      "1598    0.7        112        6  ...        174      1175  2678     6     0   \n",
      "1599    0.5         80        1  ...        437       638  3887     8     6   \n",
      "\n",
      "      talk_time  three_g  touch_screen  wifi  price_range  \n",
      "0            19        0             0     1            1  \n",
      "1             7        1             1     0            2  \n",
      "2             9        1             1     0            2  \n",
      "3            11        1             0     0            2  \n",
      "4            15        1             1     0            1  \n",
      "...         ...      ...           ...   ...          ...  \n",
      "1595          4        1             0     1            2  \n",
      "1596         14        1             1     1            3  \n",
      "1597         15        1             1     1            0  \n",
      "1598          8        1             0     0            2  \n",
      "1599          7        1             0     1            3  \n",
      "\n",
      "[1600 rows x 21 columns]\n",
      "      id  battery_power  blue  clock_speed  dual_sim  fc  four_g  int_memory  \\\n",
      "0      1           1776     1          2.1         1  10       0          35   \n",
      "1      2           1254     1          1.2         0   2       1          27   \n",
      "2      3           1494     0          1.6         1   4       1          24   \n",
      "3      4            984     1          2.2         1   0       1          39   \n",
      "4      5           1179     1          0.8         0   1       0           5   \n",
      "..   ...            ...   ...          ...       ...  ..     ...         ...   \n",
      "395  396            794     1          0.5         1   0       1           2   \n",
      "396  397           1965     1          2.6         1   0       0          39   \n",
      "397  398           1911     0          0.9         1   1       1          36   \n",
      "398  399           1512     0          0.9         0   4       1          46   \n",
      "399  400            510     1          2.0         1   5       1          45   \n",
      "\n",
      "     m_dep  mobile_wt  ...  pc  px_height  px_width   ram  sc_h  sc_w  \\\n",
      "0      0.1        172  ...  16        278       623  1813    16    13   \n",
      "1      0.2        134  ...  10       1288      1372   817    14     1   \n",
      "2      0.2        101  ...  17        979      1190  3614    15    12   \n",
      "3      0.5        119  ...  18         56      1931  2013    11     7   \n",
      "4      0.9        154  ...  17        913      1429   543     8     7   \n",
      "..     ...        ...  ...  ..        ...       ...   ...   ...   ...   \n",
      "395    0.8        106  ...  14       1222      1890   668    13     4   \n",
      "396    0.2        187  ...   3        915      1965  2032    11    10   \n",
      "397    0.7        108  ...   3        868      1632  3057     9     1   \n",
      "398    0.1        145  ...   5        336       670   869    18    10   \n",
      "399    0.9        168  ...  16        483       754  3919    19     4   \n",
      "\n",
      "     talk_time  three_g  touch_screen  wifi  \n",
      "0           20        1             1     1  \n",
      "1           16        1             1     1  \n",
      "2            9        1             0     0  \n",
      "3           16        1             1     0  \n",
      "4           18        0             0     1  \n",
      "..         ...      ...           ...   ...  \n",
      "395         19        1             1     0  \n",
      "396         16        1             1     1  \n",
      "397          5        1             1     0  \n",
      "398         19        1             1     1  \n",
      "399          2        1             1     1  \n",
      "\n",
      "[400 rows x 21 columns]\n",
      "      id  price_range\n",
      "0      1            1\n",
      "1      2            0\n",
      "2      3            3\n",
      "3      4            1\n",
      "4      5            0\n",
      "..   ...          ...\n",
      "395  396            0\n",
      "396  397            2\n",
      "397  398            3\n",
      "398  399            0\n",
      "399  400            3\n",
      "\n",
      "[400 rows x 2 columns]\n"
     ]
    }
   ],
   "execution_count": 11
  },
  {
   "metadata": {
    "ExecuteTime": {
     "end_time": "2024-12-15T05:58:25.378058Z",
     "start_time": "2024-12-15T05:58:25.364051Z"
    }
   },
   "cell_type": "code",
   "source": [
    "def EncodeData(x: pd.DataFrame) -> list:\n",
    "    \"\"\"\n",
    "    对特征向量进行编码\n",
    "    将pandas的DataFrame结构转换为list\n",
    "    同时去除无关列\n",
    "    @x: pandas.DataFrame\n",
    "    @return: 特征向量\n",
    "    \"\"\"\n",
    "    input_data = [[x[\"battery_power\"][i], x[\"blue\"][i], x[\"clock_speed\"][i], x[\"dual_sim\"][i], x[\"fc\"][i], x[\"four_g\"][i], x[\"int_memory\"][i], x[\"m_dep\"][i], x[\"mobile_wt\"][i], x[\"n_cores\"][i], x[\"pc\"][i], x[\"px_height\"][i], x[\"px_width\"][i], x[\"ram\"][i], x[\"sc_h\"][i], x[\"sc_w\"][i], x[\"talk_time\"][i], x[\"three_g\"][i], x[\"touch_screen\"][i], x[\"wifi\"][i]] for i in range(len(x))]\n",
    "    \n",
    "\n",
    "def EncodeTrainData(x: pd.DataFrame) -> tuple[list, list]:\n",
    "    \"\"\"\n",
    "    对测试集进行编码处理\n",
    "    将pandas的DataFrame结构转换为list\n",
    "    同时去除无关列\n",
    "    @x: pandas.DataFrame\n",
    "    @return: 特征向量，标签向量\n",
    "    \"\"\"\n",
    "    input_data = EncodeData(x)\n",
    "    label = [x[\"price_range\"][i] for i in range(len(x))]\n",
    "\n",
    "    return input_data, label"
   ],
   "id": "e5f26a3d823f5029",
   "outputs": [],
   "execution_count": 12
  },
  {
   "metadata": {
    "ExecuteTime": {
     "end_time": "2024-12-15T05:58:25.503369Z",
     "start_time": "2024-12-15T05:58:25.380052Z"
    }
   },
   "cell_type": "code",
   "source": "train_x, train_y = EncodeTrainData(train_DataFrame)",
   "id": "bf1867bd65bbb358",
   "outputs": [],
   "execution_count": 13
  }
 ],
 "metadata": {
  "kernelspec": {
   "display_name": "Python 3",
   "language": "python",
   "name": "python3"
  },
  "language_info": {
   "codemirror_mode": {
    "name": "ipython",
    "version": 2
   },
   "file_extension": ".py",
   "mimetype": "text/x-python",
   "name": "python",
   "nbconvert_exporter": "python",
   "pygments_lexer": "ipython2",
   "version": "2.7.6"
  }
 },
 "nbformat": 4,
 "nbformat_minor": 5
}
