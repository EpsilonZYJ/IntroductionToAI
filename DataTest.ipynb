{
 "cells": [
  {
   "cell_type": "code",
   "execution_count": 2,
   "id": "initial_id",
   "metadata": {
    "ExecuteTime": {
     "start_time": "2024-12-15T01:18:06.052101Z",
     "end_time": "2024-12-15T01:18:08.945658Z"
    },
    "collapsed": true
   },
   "outputs": [],
   "source": [
    "import tqdm\n",
    "import pandas as pd\n",
    "from sklearn.neural_network import MLPClassifier\n",
    "import torch as nn"
   ]
  },
  {
   "cell_type": "code",
   "execution_count": 3,
   "id": "95ecf4121b07c1f2",
   "metadata": {
    "ExecuteTime": {
     "start_time": "2024-12-15T01:18:08.946657Z",
     "end_time": "2024-12-15T01:18:09.008282Z"
    }
   },
   "outputs": [
    {
     "name": "stdout",
     "output_type": "stream",
     "text": [
      "2.5.1\n",
      "True\n"
     ]
    }
   ],
   "source": [
    "print(nn.__version__)\n",
    "print(nn.cuda.is_available())"
   ]
  }
 ],
 "metadata": {
  "kernelspec": {
   "display_name": "MachineLearning",
   "language": "python",
   "name": "python3"
  },
  "language_info": {
   "codemirror_mode": {
    "name": "ipython",
    "version": 2
   },
   "file_extension": ".py",
   "mimetype": "text/x-python",
   "name": "python",
   "nbconvert_exporter": "python",
   "pygments_lexer": "ipython2",
   "version": "3.10.16"
  }
 },
 "nbformat": 4,
 "nbformat_minor": 5
}
